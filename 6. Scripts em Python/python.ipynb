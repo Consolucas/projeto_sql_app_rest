{
 "cells": [
  {
   "cell_type": "markdown",
   "metadata": {},
   "source": [
    "Imports necessários"
   ]
  },
  {
   "cell_type": "code",
   "execution_count": 3,
   "metadata": {},
   "outputs": [],
   "source": [
    "import random\n",
    "import numpy as np"
   ]
  },
  {
   "cell_type": "markdown",
   "metadata": {},
   "source": [
    "def, para que o código já saia pronto para o comando de INSERT"
   ]
  },
  {
   "cell_type": "code",
   "execution_count": null,
   "metadata": {},
   "outputs": [],
   "source": [
    "def abc(pratos):\n",
    "    print(\"INSERT INTO meals VALUES (default, \"'\"' + pratos.upper() +'\", ' + str(10) + \");\")\n",
    "\n",
    "abc(\"Tortillas\")\n",
    "abc(\"Mole Poblano\")\n",
    "abc(\"Pozole\")\n",
    "abc(\"Cochinita Pibil\")\n",
    "abc(\"Tamales\")\n",
    "abc(\"Chiles en nogada\")\n",
    "abc(\"Chilaquiles\")\n",
    "abc(\"Elote\")\n",
    "abc(\"Tacos al pastor\")\n",
    "abc(\"Enchiladas\")\n",
    "abc(\"Enmolada\")\n",
    "abc(\"Cemita Poblana\")\n",
    "abc(\"Nachos\")\n",
    "abc(\"Tacos\")\n",
    "abc(\"Burritos\")\n",
    "abc(\"Guacamole\")\n",
    "abc(\"Mixiote\")\n",
    "\n",
    "\n",
    "\n",
    "\n"
   ]
  },
  {
   "cell_type": "markdown",
   "metadata": {},
   "source": [
    "comando que embaralha os dados, e traga números aleatórios para a insersão de pratos em tais restaurantes\n",
    "\n",
    "* alterando os números do _range_, podemos escolher os ids dos restaurantes e dos pratos"
   ]
  },
  {
   "cell_type": "code",
   "execution_count": null,
   "metadata": {},
   "outputs": [],
   "source": [
    "pratos =[*range(23,40,1)]\n",
    "restaurante =[*range(7,15,1)]\n",
    "\n",
    "x = pratos[1]\n",
    "y = restaurante[1]\n",
    "z = 0\n",
    "\n",
    "while z < 50:\n",
    "    print(\"INSERT INTO meals_restaurant VALUES (\" + str(x) + \", \" + str(y) + \", default);\")\n",
    "    z+=1\n",
    "    random.shuffle(pratos)\n",
    "    random.shuffle(restaurante)\n",
    "    x = pratos[1]\n",
    "    y = restaurante[1]\n",
    "\n"
   ]
  },
  {
   "cell_type": "markdown",
   "metadata": {},
   "source": [
    "comando parecido com o de cima, mas dessa vez para gerar números para a tabela _rating_. Comtém números quebrados, e por isso, usamos a biblioteca _numpy_"
   ]
  },
  {
   "cell_type": "code",
   "execution_count": null,
   "metadata": {},
   "outputs": [],
   "source": [
    "pratos =[*range(23,40,1)]\n",
    "pratos_aval =np.arange(0,5.5,0.5)\n",
    "restaurante =[*range(7,15,1)]\n",
    "restaurente_aval =np.arange(0,5.5,0.5)\n",
    "\n",
    "\n",
    "x = pratos[1]\n",
    "a = pratos_aval[1]\n",
    "y = restaurante[1]\n",
    "b = pratos_aval[1]\n",
    "z = 0\n",
    "\n",
    "while z < 200:\n",
    "    print(\"INSERT INTO rating VALUES (\" + str(x) + \", \" + str(a) + \", \" + str(y) + \", \" + str(b) + \", default);\")\n",
    "    z+=1\n",
    "    random.shuffle(pratos)\n",
    "    random.shuffle(pratos_aval)\n",
    "    random.shuffle(restaurante)\n",
    "    random.shuffle(restaurente_aval)\n",
    "\n",
    "    x = pratos[1]\n",
    "    a = pratos_aval[1]\n",
    "    y = restaurante[1]\n",
    "    b = pratos_aval[1]"
   ]
  }
 ],
 "metadata": {
  "interpreter": {
   "hash": "dea5d8f8cc29cf9e16293dbdf8747b85e5f69ab66d8365066b488317c9976378"
  },
  "kernelspec": {
   "display_name": "Python 3.10.2 64-bit",
   "language": "python",
   "name": "python3"
  },
  "language_info": {
   "codemirror_mode": {
    "name": "ipython",
    "version": 3
   },
   "file_extension": ".py",
   "mimetype": "text/x-python",
   "name": "python",
   "nbconvert_exporter": "python",
   "pygments_lexer": "ipython3",
   "version": "3.10.2"
  },
  "orig_nbformat": 4
 },
 "nbformat": 4,
 "nbformat_minor": 2
}
